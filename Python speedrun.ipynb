{
 "cells": [
  {
   "cell_type": "code",
   "execution_count": 17,
   "id": "48cbd1a8",
   "metadata": {},
   "outputs": [],
   "source": [
    "import pandas as pd \n",
    "import os "
   ]
  },
  {
   "cell_type": "markdown",
   "id": "1fe45ce6",
   "metadata": {},
   "source": [
    "# Python as Fast as possible\n",
    "\n",
    "python is omnipotent and easy\n",
    "\n",
    "\n",
    "why you learn python?\n",
    "* Web dev\n",
    "* Data science\n",
    "* Machine learning \n"
   ]
  },
  {
   "cell_type": "markdown",
   "id": "f614b9cc",
   "metadata": {},
   "source": [
    "## Data Types\n",
    "\n",
    "### Int\n",
    "as long it doesn't has a decimal point is an int as:\n",
    "-21346\n",
    "235423\n",
    "\n",
    "### Float\n",
    "it does has a decimal point as:\n",
    "213.0\n",
    "-9.7\n",
    "\n",
    "### String\n",
    "a sequence of characters, has the quotations marks as:\n",
    "'hello'\n",
    "\"world\"\n",
    "### Bool\n",
    "True and False\n"
   ]
  },
  {
   "cell_type": "markdown",
   "id": "6e7631c8",
   "metadata": {},
   "source": [
    "## Print function\n",
    "it prints B)\n",
    "\n",
    "`print(sth)`\n",
    "\n",
    "#### you can print multiple elements with commas\n",
    "\n",
    "`print(sth_1, sth_2, ... , sth_n)`\n",
    "\n",
    "#### when it comes to the end, you can set one like a line skip\n",
    "\n",
    "`print(sth, end='\\n')`\n",
    "\n",
    "*tho this is the default behaviour*"
   ]
  },
  {
   "cell_type": "code",
   "execution_count": 4,
   "id": "2c756afc",
   "metadata": {},
   "outputs": [
    {
     "name": "stdout",
     "output_type": "stream",
     "text": [
      "sth|yes\n"
     ]
    }
   ],
   "source": [
    "print('sth', end='|')\n",
    "print('yes')"
   ]
  },
  {
   "cell_type": "markdown",
   "id": "920d0e46",
   "metadata": {},
   "source": [
    "## Variables\n",
    "\n",
    "it goes like this\n",
    "\n",
    "`variable_name = data`\n",
    "\n",
    "#### you can store other variables an functions in a variable\n",
    "\n",
    "`snake_case` is the naming convention on python  "
   ]
  },
  {
   "cell_type": "markdown",
   "id": "26986c71",
   "metadata": {},
   "source": [
    "## Input\n",
    "\n",
    "`variable = input('str')`\n"
   ]
  },
  {
   "cell_type": "code",
   "execution_count": 6,
   "id": "328aa6db",
   "metadata": {},
   "outputs": [
    {
     "name": "stdout",
     "output_type": "stream",
     "text": [
      "gimme a name :abc\n",
      "gimme age:123\n",
      "Hello abc you're 123 years old\n"
     ]
    }
   ],
   "source": [
    "name = input('gimme a name :')\n",
    "age = input('gimme age:')\n",
    "print('Hello', name, \"you're\", age, 'years old')"
   ]
  },
  {
   "cell_type": "markdown",
   "id": "36e60230",
   "metadata": {},
   "source": [
    "## Arithmetic operators\n",
    "\n",
    "#### operations in order\n",
    "`x**y` exp\n",
    "\n",
    "`x*y` mul\n",
    "\n",
    "`x/y` div\n",
    "\n",
    "`x+y` sum\n",
    "\n",
    "`x-y` sub\n",
    "\n",
    "`x%y` mod\n",
    "\n",
    "`int()` gives an integer\n",
    "\n",
    "`float()` gives a float \n",
    "\n",
    "`x//y` is `int(x/y)`"
   ]
  },
  {
   "cell_type": "code",
   "execution_count": 17,
   "id": "4558ce54",
   "metadata": {},
   "outputs": [
    {
     "name": "stdout",
     "output_type": "stream",
     "text": [
      "3.0\n"
     ]
    }
   ],
   "source": [
    "x = 11\n",
    "y = 3.5\n",
    "\n",
    "result = x // y\n",
    "\n",
    "print(result)"
   ]
  },
  {
   "cell_type": "code",
   "execution_count": 18,
   "id": "71dedd1c",
   "metadata": {},
   "outputs": [
    {
     "name": "stdout",
     "output_type": "stream",
     "text": [
      "Number: 3\n",
      "8\n"
     ]
    }
   ],
   "source": [
    "num = input('Number: ')\n",
    "print(int(num)+ 5)"
   ]
  },
  {
   "cell_type": "markdown",
   "id": "1f972961",
   "metadata": {},
   "source": [
    "## String methods\n",
    "`type()` - gives the type\n",
    "\n",
    "\n",
    "`str.capitalize()` - converts to capital\n",
    "\n",
    "`str.upper()` - converts to uppercase\n",
    "\n",
    "`str.lower()` - converts to lowecase\n",
    "\n",
    "`str.count('substr')` - counts the recurrences of a substring within on a string \n",
    "\n",
    "#### you can also add two strings and multiply it with an integer\n"
   ]
  },
  {
   "cell_type": "code",
   "execution_count": 21,
   "id": "e6e6c6bb",
   "metadata": {},
   "outputs": [
    {
     "name": "stdout",
     "output_type": "stream",
     "text": [
      "1\n"
     ]
    }
   ],
   "source": [
    "hello = 'Hello world'\n",
    "print(hello.upper().count('LL'))"
   ]
  },
  {
   "cell_type": "code",
   "execution_count": 23,
   "id": "df472adf",
   "metadata": {},
   "outputs": [
    {
     "name": "stdout",
     "output_type": "stream",
     "text": [
      "fucks fucks fucks fucks fucks fucks fucks \n"
     ]
    }
   ],
   "source": [
    "idgaf = \"fucks \"\n",
    "\n",
    "print(idgaf * 7)"
   ]
  },
  {
   "cell_type": "markdown",
   "id": "f050bb72",
   "metadata": {},
   "source": []
  },
  {
   "cell_type": "code",
   "execution_count": null,
   "id": "48b191cb",
   "metadata": {},
   "outputs": [],
   "source": []
  }
 ],
 "metadata": {
  "kernelspec": {
   "display_name": "Python 3 (ipykernel)",
   "language": "python",
   "name": "python3"
  },
  "language_info": {
   "codemirror_mode": {
    "name": "ipython",
    "version": 3
   },
   "file_extension": ".py",
   "mimetype": "text/x-python",
   "name": "python",
   "nbconvert_exporter": "python",
   "pygments_lexer": "ipython3",
   "version": "3.11.4"
  }
 },
 "nbformat": 4,
 "nbformat_minor": 5
}
